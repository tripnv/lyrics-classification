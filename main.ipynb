{
 "cells": [
  {
   "cell_type": "code",
   "execution_count": 1,
   "metadata": {},
   "outputs": [],
   "source": [
    "import pandas as pd\n",
    "# import cudf\n",
    "import numpy as np \n",
    "import os\n",
    "import matplotlib.pyplot as plt\n",
    "import matplotlib.pylab as pylab\n",
    "import matplotlib as mpl\n",
    "import seaborn as sns \n",
    "import xgboost\n",
    "import mlflow\n",
    "from sklearn.model_selection import train_test_split\n",
    "# from cuml.model_selection import train_test_split"
   ]
  },
  {
   "cell_type": "code",
   "execution_count": 2,
   "metadata": {},
   "outputs": [],
   "source": [
    "plot_params = {\n",
    "    'font.family': 'Ubuntu',\n",
    "    'font.weight': 'light',\n",
    "    \n",
    "    'figure.figsize': (15,5),\n",
    "    'figure.frameon': False, \n",
    "    'figure.titlesize': 'xx-large',\n",
    "    'figure.titleweight': 'normal',\n",
    "    \n",
    "    'axes.titlesize': 'x-large',\n",
    "    'axes.titlecolor': 'black',\n",
    "    'axes.titleweight': 'normal',\n",
    "    'axes.titlelocation': 'center',\n",
    "    'axes.labelsize': 'x-large',\n",
    "\n",
    "    'grid.alpha': .25, \n",
    "    'legend.frameon':False,\n",
    "    'xtick.labelsize': 'x-large',\n",
    "    'ytick.labelsize': 'x-large',\n",
    "}"
   ]
  },
  {
   "cell_type": "code",
   "execution_count": 3,
   "metadata": {},
   "outputs": [],
   "source": [
    "pylab.rcParams.update(plot_params)\n",
    "sns.set_palette('mako')"
   ]
  },
  {
   "cell_type": "code",
   "execution_count": 4,
   "metadata": {},
   "outputs": [],
   "source": [
    "SEED = 1943\n",
    "np.random.seed(SEED)"
   ]
  },
  {
   "cell_type": "code",
   "execution_count": 5,
   "metadata": {},
   "outputs": [
    {
     "data": {
      "text/plain": [
       "['Lyrics-Genre-Test-GroundTruth.csv', 'Lyrics-Genre-Train.csv']"
      ]
     },
     "execution_count": 5,
     "metadata": {},
     "output_type": "execute_result"
    }
   ],
   "source": [
    "os.listdir('data')"
   ]
  },
  {
   "cell_type": "code",
   "execution_count": 6,
   "metadata": {},
   "outputs": [],
   "source": [
    "TRAIN_PATH = 'data/Lyrics-Genre-Train.csv'\n",
    "TEST_PATH = 'data/Lyrics-Genre-Test-GroundTruth.csv'"
   ]
  },
  {
   "cell_type": "code",
   "execution_count": 22,
   "metadata": {},
   "outputs": [],
   "source": [
    "train_data = pd.read_csv(TRAIN_PATH)\n",
    "test_data = pd.read_csv(TEST_PATH)"
   ]
  },
  {
   "cell_type": "code",
   "execution_count": 63,
   "metadata": {},
   "outputs": [],
   "source": [
    "X_train, Y_train = train_data['Lyrics'], train_data['Genre']\n",
    "\n",
    "X_test, Y_test = test_data['Lyrics'], test_data['Genre']"
   ]
  },
  {
   "cell_type": "code",
   "execution_count": 64,
   "metadata": {},
   "outputs": [],
   "source": [
    "X_train, X_valid, Y_train, Y_valid = train_test_split(X_train, Y_train, test_size= .15, random_state = SEED, stratify = Y_train)"
   ]
  },
  {
   "attachments": {},
   "cell_type": "markdown",
   "metadata": {},
   "source": [
    "#### EDA"
   ]
  },
  {
   "cell_type": "code",
   "execution_count": 22,
   "metadata": {},
   "outputs": [
    {
     "data": {
      "text/plain": [
       "(18513, 6)"
      ]
     },
     "execution_count": 22,
     "metadata": {},
     "output_type": "execute_result"
    }
   ],
   "source": [
    "train_data.shape"
   ]
  },
  {
   "cell_type": "code",
   "execution_count": 23,
   "metadata": {},
   "outputs": [
    {
     "data": {
      "text/html": [
       "<div>\n",
       "<style scoped>\n",
       "    .dataframe tbody tr th:only-of-type {\n",
       "        vertical-align: middle;\n",
       "    }\n",
       "\n",
       "    .dataframe tbody tr th {\n",
       "        vertical-align: top;\n",
       "    }\n",
       "\n",
       "    .dataframe thead th {\n",
       "        text-align: right;\n",
       "    }\n",
       "</style>\n",
       "<table border=\"1\" class=\"dataframe\">\n",
       "  <thead>\n",
       "    <tr style=\"text-align: right;\">\n",
       "      <th></th>\n",
       "      <th>Song</th>\n",
       "      <th>Song year</th>\n",
       "      <th>Artist</th>\n",
       "      <th>Genre</th>\n",
       "      <th>Lyrics</th>\n",
       "      <th>Track_id</th>\n",
       "    </tr>\n",
       "  </thead>\n",
       "  <tbody>\n",
       "    <tr>\n",
       "      <th>0</th>\n",
       "      <td>forest-enthroned</td>\n",
       "      <td>2007</td>\n",
       "      <td>catamenia</td>\n",
       "      <td>Metal</td>\n",
       "      <td>I am a night in to the darkness, only soul los...</td>\n",
       "      <td>18096</td>\n",
       "    </tr>\n",
       "    <tr>\n",
       "      <th>1</th>\n",
       "      <td>superhero</td>\n",
       "      <td>2010</td>\n",
       "      <td>aaron-smith</td>\n",
       "      <td>Hip-Hop</td>\n",
       "      <td>Yeah\\nSometimes, i just wanna fly away.\\nThey ...</td>\n",
       "      <td>22724</td>\n",
       "    </tr>\n",
       "    <tr>\n",
       "      <th>2</th>\n",
       "      <td>chicago-now</td>\n",
       "      <td>2007</td>\n",
       "      <td>fall</td>\n",
       "      <td>Metal</td>\n",
       "      <td>Do you work hard?\\nDo you work hard?\\nYou don'...</td>\n",
       "      <td>24760</td>\n",
       "    </tr>\n",
       "    <tr>\n",
       "      <th>3</th>\n",
       "      <td>the-secret</td>\n",
       "      <td>2007</td>\n",
       "      <td>geto-boys</td>\n",
       "      <td>Hip-Hop</td>\n",
       "      <td>You know what? I'm destined to be the last man...</td>\n",
       "      <td>24176</td>\n",
       "    </tr>\n",
       "    <tr>\n",
       "      <th>4</th>\n",
       "      <td>be-the-lake</td>\n",
       "      <td>2011</td>\n",
       "      <td>brad-paisley</td>\n",
       "      <td>Country</td>\n",
       "      <td>There ain't nothing that I would rather see\\nT...</td>\n",
       "      <td>17260</td>\n",
       "    </tr>\n",
       "  </tbody>\n",
       "</table>\n",
       "</div>"
      ],
      "text/plain": [
       "               Song  Song year        Artist    Genre  \\\n",
       "0  forest-enthroned       2007     catamenia    Metal   \n",
       "1         superhero       2010   aaron-smith  Hip-Hop   \n",
       "2       chicago-now       2007          fall    Metal   \n",
       "3        the-secret       2007     geto-boys  Hip-Hop   \n",
       "4       be-the-lake       2011  brad-paisley  Country   \n",
       "\n",
       "                                              Lyrics  Track_id  \n",
       "0  I am a night in to the darkness, only soul los...     18096  \n",
       "1  Yeah\\nSometimes, i just wanna fly away.\\nThey ...     22724  \n",
       "2  Do you work hard?\\nDo you work hard?\\nYou don'...     24760  \n",
       "3  You know what? I'm destined to be the last man...     24176  \n",
       "4  There ain't nothing that I would rather see\\nT...     17260  "
      ]
     },
     "execution_count": 23,
     "metadata": {},
     "output_type": "execute_result"
    }
   ],
   "source": [
    "train_data.head()"
   ]
  },
  {
   "cell_type": "code",
   "execution_count": 24,
   "metadata": {},
   "outputs": [
    {
     "data": {
      "text/plain": [
       "(7935, 6)"
      ]
     },
     "execution_count": 24,
     "metadata": {},
     "output_type": "execute_result"
    }
   ],
   "source": [
    "test_data.shape"
   ]
  },
  {
   "cell_type": "code",
   "execution_count": 25,
   "metadata": {},
   "outputs": [
    {
     "data": {
      "text/html": [
       "<div>\n",
       "<style scoped>\n",
       "    .dataframe tbody tr th:only-of-type {\n",
       "        vertical-align: middle;\n",
       "    }\n",
       "\n",
       "    .dataframe tbody tr th {\n",
       "        vertical-align: top;\n",
       "    }\n",
       "\n",
       "    .dataframe thead th {\n",
       "        text-align: right;\n",
       "    }\n",
       "</style>\n",
       "<table border=\"1\" class=\"dataframe\">\n",
       "  <thead>\n",
       "    <tr style=\"text-align: right;\">\n",
       "      <th></th>\n",
       "      <th>Song</th>\n",
       "      <th>Song year</th>\n",
       "      <th>Artist</th>\n",
       "      <th>Genre</th>\n",
       "      <th>Lyrics</th>\n",
       "      <th>Track_id</th>\n",
       "    </tr>\n",
       "  </thead>\n",
       "  <tbody>\n",
       "    <tr>\n",
       "      <th>0</th>\n",
       "      <td>craftsmanship</td>\n",
       "      <td>2005</td>\n",
       "      <td>buck-65</td>\n",
       "      <td>Hip-Hop</td>\n",
       "      <td>Most folks spend their days daydreaming of fin...</td>\n",
       "      <td>8294</td>\n",
       "    </tr>\n",
       "    <tr>\n",
       "      <th>1</th>\n",
       "      <td>come-on-out</td>\n",
       "      <td>2012</td>\n",
       "      <td>the-elwins</td>\n",
       "      <td>Indie</td>\n",
       "      <td>Take your cold hands and put them on my face\\n...</td>\n",
       "      <td>21621</td>\n",
       "    </tr>\n",
       "    <tr>\n",
       "      <th>2</th>\n",
       "      <td>riot</td>\n",
       "      <td>2013</td>\n",
       "      <td>bullet-for-my-valentine</td>\n",
       "      <td>Metal</td>\n",
       "      <td>Are you ready it's time for war\\nWe'll break d...</td>\n",
       "      <td>3301</td>\n",
       "    </tr>\n",
       "    <tr>\n",
       "      <th>3</th>\n",
       "      <td>that-s-what-girls-do</td>\n",
       "      <td>2007</td>\n",
       "      <td>dream-street</td>\n",
       "      <td>Pop</td>\n",
       "      <td>You ask me why I change the color of my hair\\n...</td>\n",
       "      <td>2773</td>\n",
       "    </tr>\n",
       "    <tr>\n",
       "      <th>4</th>\n",
       "      <td>believe-in-a-dollar</td>\n",
       "      <td>2012</td>\n",
       "      <td>cassidy</td>\n",
       "      <td>Hip-Hop</td>\n",
       "      <td>Do you believe in magic in a young girl's hear...</td>\n",
       "      <td>16797</td>\n",
       "    </tr>\n",
       "  </tbody>\n",
       "</table>\n",
       "</div>"
      ],
      "text/plain": [
       "                   Song  Song year                   Artist    Genre  \\\n",
       "0         craftsmanship       2005                  buck-65  Hip-Hop   \n",
       "1           come-on-out       2012               the-elwins    Indie   \n",
       "2                  riot       2013  bullet-for-my-valentine    Metal   \n",
       "3  that-s-what-girls-do       2007             dream-street      Pop   \n",
       "4   believe-in-a-dollar       2012                  cassidy  Hip-Hop   \n",
       "\n",
       "                                              Lyrics  Track_id  \n",
       "0  Most folks spend their days daydreaming of fin...      8294  \n",
       "1  Take your cold hands and put them on my face\\n...     21621  \n",
       "2  Are you ready it's time for war\\nWe'll break d...      3301  \n",
       "3  You ask me why I change the color of my hair\\n...      2773  \n",
       "4  Do you believe in magic in a young girl's hear...     16797  "
      ]
     },
     "execution_count": 25,
     "metadata": {},
     "output_type": "execute_result"
    }
   ],
   "source": [
    "test_data.head()"
   ]
  },
  {
   "cell_type": "code",
   "execution_count": 26,
   "metadata": {},
   "outputs": [
    {
     "data": {
      "image/png": "[encoded data removed]",
      "text/plain": [
       "<Figure size 1500x500 with 1 Axes>"
      ]
     },
     "metadata": {},
     "output_type": "display_data"
    }
   ],
   "source": [
    "sns.histplot(train_data['Genre'], edgecolor = 'white', stat = 'percent')\n",
    "plt.box(False)\n",
    "plt.show()\n"
   ]
  },
  {
   "cell_type": "code",
   "execution_count": 27,
   "metadata": {},
   "outputs": [
    {
     "data": {
      "text/plain": [
       "10"
      ]
     },
     "execution_count": 27,
     "metadata": {},
     "output_type": "execute_result"
    }
   ],
   "source": [
    "train_data['Genre'].nunique()"
   ]
  },
  {
   "attachments": {},
   "cell_type": "markdown",
   "metadata": {},
   "source": [
    "There are 10 classes. A somewhat unbalanced dataset. Three classes with less than 5% samples. The majority class being Rock w/ approximately 18% of the entries."
   ]
  },
  {
   "cell_type": "code",
   "execution_count": 28,
   "metadata": {},
   "outputs": [
    {
     "data": {
      "text/plain": [
       "<pandas.core.groupby.generic.SeriesGroupBy object at 0x7fa4ae577a30>"
      ]
     },
     "execution_count": 28,
     "metadata": {},
     "output_type": "execute_result"
    }
   ],
   "source": [
    "train_data.groupby('Genre')['Lyrics']"
   ]
  },
  {
   "attachments": {},
   "cell_type": "markdown",
   "metadata": {},
   "source": [
    "Some samples from each group, should be checked."
   ]
  },
  {
   "attachments": {},
   "cell_type": "markdown",
   "metadata": {},
   "source": [
    "#### Modeling"
   ]
  },
  {
   "cell_type": "code",
   "execution_count": 10,
   "metadata": {},
   "outputs": [
    {
     "data": {
      "text/plain": [
       "'file:///home/mikhailtal/Desktop/hnnaharendt/lyrics-project/mlruns'"
      ]
     },
     "execution_count": 10,
     "metadata": {},
     "output_type": "execute_result"
    }
   ],
   "source": [
    "# Tracking\n",
    "mlflow.get_tracking_uri()"
   ]
  },
  {
   "cell_type": "code",
   "execution_count": 25,
   "metadata": {},
   "outputs": [],
   "source": [
    "from sklearn.metrics import ConfusionMatrixDisplay, confusion_matrix\n",
    "from sklearn.metrics import roc_auc_score, matthews_corrcoef, precision_score, recall_score, f1_score, accuracy_score, classification_report\n",
    "from sklearn.feature_extraction.text import TfidfVectorizer, CountVectorizer\n",
    "from sklearn.preprocessing import LabelEncoder\n",
    "from sklearn.pipeline import Pipeline"
   ]
  },
  {
   "cell_type": "code",
   "execution_count": 52,
   "metadata": {},
   "outputs": [],
   "source": [
    "# Define metrics\n",
    "def calculate_metrics(Y_true, Y_pred, log = False, verbose = True):\n",
    "    ACC = accuracy_score(Y_true, Y_pred)\n",
    "    F_SCORE = f1_score(Y_true, Y_pred, average = 'micro')\n",
    "    PRECISION = precision_score(Y_true, Y_pred, average= 'micro')\n",
    "    RECALL = recall_score(Y_true, Y_pred, average = 'micro')\n",
    "    # RAS = roc_auc_score(Y_true, Y_pred, multi_class='ovr')\n",
    "    MCC = matthews_corrcoef(Y_true, Y_pred)\n",
    "    C_REPORT = classification_report(Y_true, Y_pred)\n",
    "    \n",
    "    if verbose:\n",
    "        print('Metrics:')\n",
    "        print(f'\\t Accuracy \\t\\t{ACC}')\n",
    "\n",
    "        print(f'\\t F-Score \\t\\t{F_SCORE}')\n",
    "\n",
    "        print(f'\\t Precision \\t\\t{PRECISION}')\n",
    "\n",
    "        print(f'\\t Recall \\t\\t{RECALL}')\n",
    "\n",
    "        print(f\"\\t Matthew's cc \\t\\t{MCC}\")\n",
    "\n",
    "        # print(f'\\t ROC-AUC \\t\\t{RAS}')\n",
    "\n",
    "        print(f'\\n{C_REPORT}')\n",
    "\n",
    "    ..."
   ]
  },
  {
   "cell_type": "code",
   "execution_count": 65,
   "metadata": {},
   "outputs": [],
   "source": [
    "vectorizer = TfidfVectorizer(ngram_range=(1,2))"
   ]
  },
  {
   "cell_type": "code",
   "execution_count": 66,
   "metadata": {},
   "outputs": [
    {
     "data": {
      "text/plain": [
       "13453    Oh, the weather outside is frightful,\\nBut the...\n",
       "1858     [Busta Talking]\\nBounce, Bounce, Bounce niggas...\n",
       "14487    I'll be home for Christmas;\\nYou can play on m...\n",
       "2255     Just the other day, I was looking for myself a...\n",
       "15266    (Gray.)\\nGot me seeing crooked, like the scree...\n",
       "                               ...                        \n",
       "15917    Sometimes I stop\\nTake a look at myself\\nAnd r...\n",
       "4156     At times the women deep inside me\\nWanders far...\n",
       "11903    KANJI LYRICS\\nWe back again å ã\n",
       "ã­ãã¯ã...\n",
       "15673    There'll always be another tear there'll alway...\n",
       "1113     Nine to five a.m., gonna party all weekend\\nI ...\n",
       "Name: Lyrics, Length: 15736, dtype: object"
      ]
     },
     "execution_count": 66,
     "metadata": {},
     "output_type": "execute_result"
    }
   ],
   "source": [
    "X_train"
   ]
  },
  {
   "cell_type": "code",
   "execution_count": 67,
   "metadata": {},
   "outputs": [],
   "source": [
    "vectorizer.fit(X_train)\n",
    "X_train = vectorizer.transform(X_train)\n",
    "X_valid = vectorizer.transform(X_valid)"
   ]
  },
  {
   "cell_type": "code",
   "execution_count": 68,
   "metadata": {},
   "outputs": [
    {
     "data": {
      "text/plain": [
       "((15736, 831805), (2777, 831805))"
      ]
     },
     "execution_count": 68,
     "metadata": {},
     "output_type": "execute_result"
    }
   ],
   "source": [
    "X_train.shape, X_valid.shape"
   ]
  },
  {
   "cell_type": "code",
   "execution_count": 69,
   "metadata": {},
   "outputs": [],
   "source": [
    "encoder = LabelEncoder()\n",
    "Y_train = encoder.fit_transform(Y_train)\n",
    "Y_valid = encoder.transform(Y_valid)"
   ]
  },
  {
   "cell_type": "code",
   "execution_count": 70,
   "metadata": {},
   "outputs": [],
   "source": [
    "model = xgboost.XGBClassifier(tree_method = 'gpu_hist')"
   ]
  },
  {
   "cell_type": "code",
   "execution_count": 71,
   "metadata": {},
   "outputs": [
    {
     "data": {
      "text/html": [
       "<style>#sk-container-id-4 {color: black;background-color: white;}#sk-container-id-4 pre{padding: 0;}#sk-container-id-4 div.sk-toggleable {background-color: white;}#sk-container-id-4 label.sk-toggleable__label {cursor: pointer;display: block;width: 100%;margin-bottom: 0;padding: 0.3em;box-sizing: border-box;text-align: center;}#sk-container-id-4 label.sk-toggleable__label-arrow:before {content: \"▸\";float: left;margin-right: 0.25em;color: #696969;}#sk-container-id-4 label.sk-toggleable__label-arrow:hover:before {color: black;}#sk-container-id-4 div.sk-estimator:hover label.sk-toggleable__label-arrow:before {color: black;}#sk-container-id-4 div.sk-toggleable__content {max-height: 0;max-width: 0;overflow: hidden;text-align: left;background-color: #f0f8ff;}#sk-container-id-4 div.sk-toggleable__content pre {margin: 0.2em;color: black;border-radius: 0.25em;background-color: #f0f8ff;}#sk-container-id-4 input.sk-toggleable__control:checked~div.sk-toggleable__content {max-height: 200px;max-width: 100%;overflow: auto;}#sk-container-id-4 input.sk-toggleable__control:checked~label.sk-toggleable__label-arrow:before {content: \"▾\";}#sk-container-id-4 div.sk-estimator input.sk-toggleable__control:checked~label.sk-toggleable__label {background-color: #d4ebff;}#sk-container-id-4 div.sk-label input.sk-toggleable__control:checked~label.sk-toggleable__label {background-color: #d4ebff;}#sk-container-id-4 input.sk-hidden--visually {border: 0;clip: rect(1px 1px 1px 1px);clip: rect(1px, 1px, 1px, 1px);height: 1px;margin: -1px;overflow: hidden;padding: 0;position: absolute;width: 1px;}#sk-container-id-4 div.sk-estimator {font-family: monospace;background-color: #f0f8ff;border: 1px dotted black;border-radius: 0.25em;box-sizing: border-box;margin-bottom: 0.5em;}#sk-container-id-4 div.sk-estimator:hover {background-color: #d4ebff;}#sk-container-id-4 div.sk-parallel-item::after {content: \"\";width: 100%;border-bottom: 1px solid gray;flex-grow: 1;}#sk-container-id-4 div.sk-label:hover label.sk-toggleable__label {background-color: #d4ebff;}#sk-container-id-4 div.sk-serial::before {content: \"\";position: absolute;border-left: 1px solid gray;box-sizing: border-box;top: 0;bottom: 0;left: 50%;z-index: 0;}#sk-container-id-4 div.sk-serial {display: flex;flex-direction: column;align-items: center;background-color: white;padding-right: 0.2em;padding-left: 0.2em;position: relative;}#sk-container-id-4 div.sk-item {position: relative;z-index: 1;}#sk-container-id-4 div.sk-parallel {display: flex;align-items: stretch;justify-content: center;background-color: white;position: relative;}#sk-container-id-4 div.sk-item::before, #sk-container-id-4 div.sk-parallel-item::before {content: \"\";position: absolute;border-left: 1px solid gray;box-sizing: border-box;top: 0;bottom: 0;left: 50%;z-index: -1;}#sk-container-id-4 div.sk-parallel-item {display: flex;flex-direction: column;z-index: 1;position: relative;background-color: white;}#sk-container-id-4 div.sk-parallel-item:first-child::after {align-self: flex-end;width: 50%;}#sk-container-id-4 div.sk-parallel-item:last-child::after {align-self: flex-start;width: 50%;}#sk-container-id-4 div.sk-parallel-item:only-child::after {width: 0;}#sk-container-id-4 div.sk-dashed-wrapped {border: 1px dashed gray;margin: 0 0.4em 0.5em 0.4em;box-sizing: border-box;padding-bottom: 0.4em;background-color: white;}#sk-container-id-4 div.sk-label label {font-family: monospace;font-weight: bold;display: inline-block;line-height: 1.2em;}#sk-container-id-4 div.sk-label-container {text-align: center;}#sk-container-id-4 div.sk-container {/* jupyter's `normalize.less` sets `[hidden] { display: none; }` but bootstrap.min.css set `[hidden] { display: none !important; }` so we also need the `!important` here to be able to override the default hidden behavior on the sphinx rendered scikit-learn.org. See: https://github.com/scikit-learn/scikit-learn/issues/21755 */display: inline-block !important;position: relative;}#sk-container-id-4 div.sk-text-repr-fallback {display: none;}</style><div id=\"sk-container-id-4\" class=\"sk-top-container\"><div class=\"sk-text-repr-fallback\"><pre>XGBClassifier(base_score=0.5, booster=&#x27;gbtree&#x27;, callbacks=None,\n",
       "              colsample_bylevel=1, colsample_bynode=1, colsample_bytree=1,\n",
       "              early_stopping_rounds=None, enable_categorical=False,\n",
       "              eval_metric=None, feature_types=None, gamma=0, gpu_id=0,\n",
       "              grow_policy=&#x27;depthwise&#x27;, importance_type=None,\n",
       "              interaction_constraints=&#x27;&#x27;, learning_rate=0.300000012,\n",
       "              max_bin=256, max_cat_threshold=64, max_cat_to_onehot=4,\n",
       "              max_delta_step=0, max_depth=6, max_leaves=0, min_child_weight=1,\n",
       "              missing=nan, monotone_constraints=&#x27;()&#x27;, n_estimators=100,\n",
       "              n_jobs=0, num_parallel_tree=1, objective=&#x27;multi:softprob&#x27;,\n",
       "              predictor=&#x27;auto&#x27;, ...)</pre><b>In a Jupyter environment, please rerun this cell to show the HTML representation or trust the notebook. <br />On GitHub, the HTML representation is unable to render, please try loading this page with nbviewer.org.</b></div><div class=\"sk-container\" hidden><div class=\"sk-item\"><div class=\"sk-estimator sk-toggleable\"><input class=\"sk-toggleable__control sk-hidden--visually\" id=\"sk-estimator-id-4\" type=\"checkbox\" checked><label for=\"sk-estimator-id-4\" class=\"sk-toggleable__label sk-toggleable__label-arrow\">XGBClassifier</label><div class=\"sk-toggleable__content\"><pre>XGBClassifier(base_score=0.5, booster=&#x27;gbtree&#x27;, callbacks=None,\n",
       "              colsample_bylevel=1, colsample_bynode=1, colsample_bytree=1,\n",
       "              early_stopping_rounds=None, enable_categorical=False,\n",
       "              eval_metric=None, feature_types=None, gamma=0, gpu_id=0,\n",
       "              grow_policy=&#x27;depthwise&#x27;, importance_type=None,\n",
       "              interaction_constraints=&#x27;&#x27;, learning_rate=0.300000012,\n",
       "              max_bin=256, max_cat_threshold=64, max_cat_to_onehot=4,\n",
       "              max_delta_step=0, max_depth=6, max_leaves=0, min_child_weight=1,\n",
       "              missing=nan, monotone_constraints=&#x27;()&#x27;, n_estimators=100,\n",
       "              n_jobs=0, num_parallel_tree=1, objective=&#x27;multi:softprob&#x27;,\n",
       "              predictor=&#x27;auto&#x27;, ...)</pre></div></div></div></div></div>"
      ],
      "text/plain": [
       "XGBClassifier(base_score=0.5, booster='gbtree', callbacks=None,\n",
       "              colsample_bylevel=1, colsample_bynode=1, colsample_bytree=1,\n",
       "              early_stopping_rounds=None, enable_categorical=False,\n",
       "              eval_metric=None, feature_types=None, gamma=0, gpu_id=0,\n",
       "              grow_policy='depthwise', importance_type=None,\n",
       "              interaction_constraints='', learning_rate=0.300000012,\n",
       "              max_bin=256, max_cat_threshold=64, max_cat_to_onehot=4,\n",
       "              max_delta_step=0, max_depth=6, max_leaves=0, min_child_weight=1,\n",
       "              missing=nan, monotone_constraints='()', n_estimators=100,\n",
       "              n_jobs=0, num_parallel_tree=1, objective='multi:softprob',\n",
       "              predictor='auto', ...)"
      ]
     },
     "execution_count": 71,
     "metadata": {},
     "output_type": "execute_result"
    }
   ],
   "source": [
    "model.fit(X_train, Y_train)"
   ]
  },
  {
   "cell_type": "code",
   "execution_count": 72,
   "metadata": {},
   "outputs": [],
   "source": [
    "Y_pred = model.predict(X_valid)"
   ]
  },
  {
   "attachments": {},
   "cell_type": "markdown",
   "metadata": {},
   "source": [
    "CountVectorizer; ngram = (1,1)"
   ]
  },
  {
   "cell_type": "code",
   "execution_count": 59,
   "metadata": {},
   "outputs": [
    {
     "name": "stdout",
     "output_type": "stream",
     "text": [
      "Metrics:\n",
      "\t Accuracy \t\t0.4137558516384588\n",
      "\t F-Score \t\t0.4137558516384588\n",
      "\t Precision \t\t0.4137558516384588\n",
      "\t Recall \t\t0.4137558516384588\n",
      "\t Matthew's cc \t\t0.3319181240266764\n",
      "\n",
      "              precision    recall  f1-score   support\n",
      "\n",
      "           0       0.43      0.38      0.40       284\n",
      "           1       0.27      0.13      0.17       231\n",
      "           2       0.47      0.20      0.28       173\n",
      "           3       0.82      0.80      0.81       336\n",
      "           4       0.31      0.07      0.12       178\n",
      "           5       0.42      0.31      0.35       231\n",
      "           6       0.58      0.63      0.60       283\n",
      "           7       0.31      0.35      0.33       389\n",
      "           8       0.43      0.16      0.24       178\n",
      "           9       0.28      0.57      0.38       494\n",
      "\n",
      "    accuracy                           0.41      2777\n",
      "   macro avg       0.43      0.36      0.37      2777\n",
      "weighted avg       0.43      0.41      0.40      2777\n",
      "\n"
     ]
    }
   ],
   "source": [
    "calculate_metrics(Y_valid, Y_pred)"
   ]
  },
  {
   "attachments": {},
   "cell_type": "markdown",
   "metadata": {},
   "source": [
    "\n",
    "CountVectorizer; ngram = (1,2)"
   ]
  },
  {
   "cell_type": "code",
   "execution_count": 34,
   "metadata": {},
   "outputs": [
    {
     "name": "stdout",
     "output_type": "stream",
     "text": [
      "Metrics:\n",
      "\t Accuracy \t\t0.39683111271155924\n",
      "\t F-Score \t\t0.39683111271155924\n",
      "\t Precision \t\t0.39683111271155924\n",
      "\t Recall \t\t0.39683111271155924\n",
      "\t Matthew's cc \t\t0.312109871634615\n",
      "\n",
      "              precision    recall  f1-score   support\n",
      "\n",
      "           0       0.46      0.38      0.42       284\n",
      "           1       0.26      0.12      0.16       231\n",
      "           2       0.49      0.20      0.28       173\n",
      "           3       0.84      0.79      0.81       336\n",
      "           4       0.24      0.06      0.09       178\n",
      "           5       0.41      0.27      0.32       231\n",
      "           6       0.59      0.61      0.60       283\n",
      "           7       0.30      0.35      0.33       389\n",
      "           8       0.32      0.12      0.17       178\n",
      "           9       0.25      0.53      0.34       494\n",
      "\n",
      "    accuracy                           0.40      2777\n",
      "   macro avg       0.42      0.34      0.35      2777\n",
      "weighted avg       0.42      0.40      0.38      2777\n",
      "\n"
     ]
    }
   ],
   "source": [
    "calculate_metrics(Y_valid, Y_pred)"
   ]
  },
  {
   "cell_type": "markdown",
   "metadata": {},
   "source": [
    "CountVectorizer; ngram = (1,3)"
   ]
  },
  {
   "cell_type": "code",
   "execution_count": 47,
   "metadata": {},
   "outputs": [
    {
     "name": "stdout",
     "output_type": "stream",
     "text": [
      "Metrics:\n",
      "\t Accuracy \t\t0.409074540871444\n",
      "\t F-Score \t\t0.409074540871444\n",
      "\t Precision \t\t0.409074540871444\n",
      "\t Recall \t\t0.409074540871444\n",
      "\t Matthew's cc \t\t0.3269972964211144\n",
      "\n",
      "              precision    recall  f1-score   support\n",
      "\n",
      "           0       0.45      0.39      0.42       284\n",
      "           1       0.26      0.12      0.17       231\n",
      "           2       0.53      0.23      0.32       173\n",
      "           3       0.83      0.79      0.81       336\n",
      "           4       0.26      0.06      0.09       178\n",
      "           5       0.44      0.28      0.34       231\n",
      "           6       0.59      0.63      0.61       283\n",
      "           7       0.31      0.33      0.32       389\n",
      "           8       0.38      0.14      0.20       178\n",
      "           9       0.27      0.58      0.37       494\n",
      "\n",
      "    accuracy                           0.41      2777\n",
      "   macro avg       0.43      0.35      0.36      2777\n",
      "weighted avg       0.43      0.41      0.39      2777\n",
      "\n"
     ]
    }
   ],
   "source": [
    "calculate_metrics(Y_valid, Y_pred)"
   ]
  },
  {
   "attachments": {},
   "cell_type": "markdown",
   "metadata": {},
   "source": [
    "TFidf"
   ]
  },
  {
   "cell_type": "code",
   "execution_count": 61,
   "metadata": {},
   "outputs": [
    {
     "name": "stdout",
     "output_type": "stream",
     "text": [
      "Metrics:\n",
      "\t Accuracy \t\t0.21389989196975154\n",
      "\t F-Score \t\t0.21389989196975154\n",
      "\t Precision \t\t0.21389989196975154\n",
      "\t Recall \t\t0.21389989196975154\n",
      "\t Matthew's cc \t\t0.10649674176783724\n",
      "\n",
      "              precision    recall  f1-score   support\n",
      "\n",
      "           0       0.24      0.10      0.14       284\n",
      "           1       0.10      0.32      0.16       231\n",
      "           2       0.60      0.03      0.07       173\n",
      "           3       0.92      0.39      0.55       336\n",
      "           4       0.09      0.17      0.12       178\n",
      "           5       0.55      0.03      0.05       231\n",
      "           6       0.61      0.04      0.07       283\n",
      "           7       0.22      0.30      0.25       389\n",
      "           8       1.00      0.04      0.08       178\n",
      "           9       0.20      0.37      0.26       494\n",
      "\n",
      "    accuracy                           0.21      2777\n",
      "   macro avg       0.45      0.18      0.17      2777\n",
      "weighted avg       0.43      0.21      0.20      2777\n",
      "\n"
     ]
    }
   ],
   "source": [
    "\n",
    "calculate_metrics(Y_valid, Y_pred)"
   ]
  },
  {
   "cell_type": "code",
   "execution_count": 73,
   "metadata": {},
   "outputs": [
    {
     "name": "stdout",
     "output_type": "stream",
     "text": [
      "Metrics:\n",
      "\t Accuracy \t\t0.17788980914656105\n",
      "\t F-Score \t\t0.17788980914656105\n",
      "\t Precision \t\t0.17788980914656105\n",
      "\t Recall \t\t0.17788980914656105\n",
      "\t Matthew's cc \t\t0.0\n",
      "\n",
      "              precision    recall  f1-score   support\n",
      "\n",
      "           0       0.00      0.00      0.00       284\n",
      "           1       0.00      0.00      0.00       231\n",
      "           2       0.00      0.00      0.00       173\n",
      "           3       0.00      0.00      0.00       336\n",
      "           4       0.00      0.00      0.00       178\n",
      "           5       0.00      0.00      0.00       231\n",
      "           6       0.00      0.00      0.00       283\n",
      "           7       0.00      0.00      0.00       389\n",
      "           8       0.00      0.00      0.00       178\n",
      "           9       0.18      1.00      0.30       494\n",
      "\n",
      "    accuracy                           0.18      2777\n",
      "   macro avg       0.02      0.10      0.03      2777\n",
      "weighted avg       0.03      0.18      0.05      2777\n",
      "\n"
     ]
    },
    {
     "name": "stderr",
     "output_type": "stream",
     "text": [
      "/home/mikhailtal/mambaforge/envs/rapids@22.12/lib/python3.9/site-packages/sklearn/metrics/_classification.py:1344: UndefinedMetricWarning: Precision and F-score are ill-defined and being set to 0.0 in labels with no predicted samples. Use `zero_division` parameter to control this behavior.\n",
      "  _warn_prf(average, modifier, msg_start, len(result))\n",
      "/home/mikhailtal/mambaforge/envs/rapids@22.12/lib/python3.9/site-packages/sklearn/metrics/_classification.py:1344: UndefinedMetricWarning: Precision and F-score are ill-defined and being set to 0.0 in labels with no predicted samples. Use `zero_division` parameter to control this behavior.\n",
      "  _warn_prf(average, modifier, msg_start, len(result))\n",
      "/home/mikhailtal/mambaforge/envs/rapids@22.12/lib/python3.9/site-packages/sklearn/metrics/_classification.py:1344: UndefinedMetricWarning: Precision and F-score are ill-defined and being set to 0.0 in labels with no predicted samples. Use `zero_division` parameter to control this behavior.\n",
      "  _warn_prf(average, modifier, msg_start, len(result))\n"
     ]
    }
   ],
   "source": [
    "\n",
    "calculate_metrics(Y_valid, Y_pred)"
   ]
  },
  {
   "cell_type": "code",
   "execution_count": null,
   "metadata": {},
   "outputs": [],
   "source": []
  }
 ],
 "metadata": {
  "kernelspec": {
   "display_name": "rapids@22.12",
   "language": "python",
   "name": "python3"
  },
  "language_info": {
   "codemirror_mode": {
    "name": "ipython",
    "version": 3
   },
   "file_extension": ".py",
   "mimetype": "text/x-python",
   "name": "python",
   "nbconvert_exporter": "python",
   "pygments_lexer": "ipython3",
   "version": "3.9.15"
  },
  "orig_nbformat": 4,
  "vscode": {
   "interpreter": {
    "hash": "cdcfd61292b88655bc281c0b128b469f1c14805e62107403790eea070c7840dc"
   }
  }
 },
 "nbformat": 4,
 "nbformat_minor": 2
}
